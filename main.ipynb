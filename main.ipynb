{
 "cells": [
  {
   "cell_type": "markdown",
   "metadata": {},
   "source": [
    "a variable is just something that can be saved\n",
    "```python\n",
    "x = 10 # saves 10 to variable x\n",
    "```\n",
    "\n",
    "int: \n",
    "```python\n",
    "-10, 10, 5, 7, ...\n",
    "```\n",
    "\n",
    "float: \n",
    "```python\n",
    "10.0, .0001, -.00005, ...\n",
    "```\n",
    "\n",
    "string: \n",
    "```python\n",
    "'zoe', 'nikhil jagajee lokesh mukraj', '1', \"double quotations\"\n",
    "\n",
    "\"\"\"triple quotes\"\"\"\n",
    "```\n",
    "\n",
    "concatentation: \n",
    "```python\n",
    "'nik', 'jag', 'nik' + 'jag' == 'nikjag'\n",
    "```\n",
    "\n",
    "special characters\n",
    "```python\n",
    "'\\n' # next line\n",
    "'\\t' # tab\n",
    "'\\\\n' # ignore next backslash\n",
    "```\n",
    "\n",
    "print()\n",
    "```python\n",
    "print('hi mom') # outputs hi mom\n",
    "```\n",
    "\n",
    "input()\n",
    "```python\n",
    "input() # gets input from user\n",
    "input('how are you? ') # prints 'how are you? ' and then gets input\n",
    "name = ('whats your name?\\n') # prints 'whats your name?\\n' and saves input"
   ]
  },
  {
   "cell_type": "code",
   "execution_count": 1,
   "metadata": {},
   "outputs": [
    {
     "name": "stdout",
     "output_type": "stream",
     "text": [
      "Hello World!\n"
     ]
    }
   ],
   "source": [
    "variable = 'Hello World!'\n",
    "print(variable)"
   ]
  },
  {
   "cell_type": "code",
   "execution_count": 2,
   "metadata": {},
   "outputs": [
    {
     "name": "stdout",
     "output_type": "stream",
     "text": [
      "poop\n"
     ]
    }
   ],
   "source": [
    "nikjag = \"poop\"\n",
    "print(nikjag)"
   ]
  },
  {
   "cell_type": "markdown",
   "metadata": {},
   "source": [
    "operators:\n",
    "```python\n",
    "x + y # adds x and y\n",
    "x - y # subtracts x and y\n",
    "x * y # multiplies x and y\n",
    "x / y # divides x by y\n",
    "x % y # remainder of x divided by y\n",
    "\n",
    "x += y # the same as x = x + y\n",
    "x *= y # works for all operators\n",
    "```"
   ]
  },
  {
   "cell_type": "code",
   "execution_count": 3,
   "metadata": {},
   "outputs": [
    {
     "name": "stdout",
     "output_type": "stream",
     "text": [
      "30\n"
     ]
    }
   ],
   "source": [
    "num = 10\n",
    "num += 20\n",
    "print(num)"
   ]
  },
  {
   "cell_type": "code",
   "execution_count": 4,
   "metadata": {},
   "outputs": [
    {
     "name": "stdout",
     "output_type": "stream",
     "text": [
      "1.6129032258064515\n"
     ]
    }
   ],
   "source": [
    "num = 100\n",
    "num /= 62\n",
    "print(num)"
   ]
  },
  {
   "cell_type": "code",
   "execution_count": 5,
   "metadata": {},
   "outputs": [
    {
     "name": "stdout",
     "output_type": "stream",
     "text": [
      "306.0\n"
     ]
    }
   ],
   "source": [
    "variable2 = 3 + 100 * 6 / 2 + 3\n",
    "print(variable2)"
   ]
  },
  {
   "cell_type": "code",
   "execution_count": 6,
   "metadata": {},
   "outputs": [
    {
     "name": "stdout",
     "output_type": "stream",
     "text": [
      "81.61290322580645\n"
     ]
    }
   ],
   "source": [
    "variable2 = num + 80\n",
    "print(variable2)"
   ]
  },
  {
   "cell_type": "markdown",
   "metadata": {},
   "source": [
    "boolean: \n",
    "```python\n",
    "True, False \n",
    "```\n",
    "\n",
    "comparisons: \n",
    "```python\n",
    "x == y # is equal\n",
    "x > y # is x greater than y\n",
    "x < y # is x less than y\n",
    "x >= y # is x greater than or equal to y\n",
    "x <= y # is x less than or equal to y\n",
    "```"
   ]
  },
  {
   "cell_type": "code",
   "execution_count": 8,
   "metadata": {},
   "outputs": [
    {
     "data": {
      "text/plain": [
       "True"
      ]
     },
     "execution_count": 8,
     "metadata": {},
     "output_type": "execute_result"
    }
   ],
   "source": [
    "10.0 == 10"
   ]
  },
  {
   "cell_type": "code",
   "execution_count": 10,
   "metadata": {},
   "outputs": [
    {
     "name": "stdout",
     "output_type": "stream",
     "text": [
      "horseshit\n"
     ]
    }
   ],
   "source": [
    "penis = input('Hi, how is your day? ')\n",
    "print(penis)"
   ]
  },
  {
   "cell_type": "code",
   "execution_count": 11,
   "metadata": {},
   "outputs": [
    {
     "name": "stdout",
     "output_type": "stream",
     "text": [
      "32\n"
     ]
    }
   ],
   "source": [
    "age = input('How old are you? ')\n",
    "age = int(age)\n",
    "print(age * 2)"
   ]
  },
  {
   "cell_type": "code",
   "execution_count": 12,
   "metadata": {},
   "outputs": [
    {
     "name": "stdout",
     "output_type": "stream",
     "text": [
      "False\n"
     ]
    }
   ],
   "source": [
    "weather = input('how hot are you (fahrenheit)')\n",
    "weather = int(weather)\n",
    "print(weather <= 70)"
   ]
  },
  {
   "cell_type": "markdown",
   "metadata": {},
   "source": [
    "f strings:\n",
    "```python\n",
    "# also known as formatted strings\n",
    "name = 'obama'\n",
    "print(f'hello {name}, what is your last name') # prints 'hello obama, what is your last name'\n",
    "# the f string will evaluate anything within the {}\n",
    "```"
   ]
  },
  {
   "cell_type": "code",
   "execution_count": 14,
   "metadata": {},
   "outputs": [
    {
     "name": "stdout",
     "output_type": "stream",
     "text": [
      "2 times 2 is equal to 4\n"
     ]
    }
   ],
   "source": [
    "number = input('give me a number')\n",
    "number = int(number)\n",
    "print(f'{number} times 2 is equal to {number * 2}')"
   ]
  },
  {
   "cell_type": "markdown",
   "metadata": {},
   "source": [
    "if statements:\n",
    "```python\n",
    "# if comparison:\n",
    "#   something\n",
    "num = 10\n",
    "\n",
    "if num > 5:\n",
    "  print('that number is greater than 5') # this prints because num is greater than 5\n",
    "```"
   ]
  },
  {
   "cell_type": "code",
   "execution_count": 15,
   "metadata": {},
   "outputs": [
    {
     "name": "stdout",
     "output_type": "stream",
     "text": [
      "sweater weather\n"
     ]
    }
   ],
   "source": [
    "weather = input('how hot (still fahrenheit)')\n",
    "weather = int(weather)\n",
    "if weather < 50:\n",
    "  print('sweater weather')"
   ]
  },
  {
   "cell_type": "code",
   "execution_count": null,
   "metadata": {},
   "outputs": [],
   "source": [
    "#https://colab.research.google.com/drive/17V7y8W7PTzW4hyfcbaxXY2je0JcKq7Vy#scrollTo=rG--6uTgS-Ez"
   ]
  }
 ],
 "metadata": {
  "kernelspec": {
   "display_name": "Python 3.8.10 64-bit",
   "language": "python",
   "name": "python3"
  },
  "language_info": {
   "codemirror_mode": {
    "name": "ipython",
    "version": 3
   },
   "file_extension": ".py",
   "mimetype": "text/x-python",
   "name": "python",
   "nbconvert_exporter": "python",
   "pygments_lexer": "ipython3",
   "version": "3.8.10"
  },
  "orig_nbformat": 4,
  "vscode": {
   "interpreter": {
    "hash": "e49f74e46b456e49c6fe038b9d452af7a62c4b3c345dd5f08f3508413a9f0789"
   }
  }
 },
 "nbformat": 4,
 "nbformat_minor": 2
}
